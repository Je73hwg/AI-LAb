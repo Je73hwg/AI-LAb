{
  "nbformat": 4,
  "nbformat_minor": 0,
  "metadata": {
    "colab": {
      "provenance": [],
      "authorship_tag": "ABX9TyOxh/8AOETVHhltPhuzGX+G",
      "include_colab_link": true
    },
    "kernelspec": {
      "name": "python3",
      "display_name": "Python 3"
    },
    "language_info": {
      "name": "python"
    }
  },
  "cells": [
    {
      "cell_type": "markdown",
      "metadata": {
        "id": "view-in-github",
        "colab_type": "text"
      },
      "source": [
        "<a href=\"https://colab.research.google.com/github/Je73hwg/AI-LAb/blob/main/KB.ipynb\" target=\"_parent\"><img src=\"https://colab.research.google.com/assets/colab-badge.svg\" alt=\"Open In Colab\"/></a>"
      ]
    },
    {
      "cell_type": "code",
      "source": [
        "import itertools\n",
        "\n",
        "# Define the logical implications\n",
        "def implies(a, b):\n",
        "    return not a or b\n",
        "\n",
        "# Knowledge Base\n",
        "def knowledge_base(q, p, r):\n",
        "    return implies(q, p) and implies(p, not q) and (q or r)\n",
        "\n",
        "# Check entailment\n",
        "def check_entailment():\n",
        "    # Variables: q, p, r can be True (1) or False (0)\n",
        "    variables = [True, False]\n",
        "\n",
        "    # Store results for each case\n",
        "    results = []\n",
        "\n",
        "    for q, p, r in itertools.product(variables, repeat=3):\n",
        "        kb_satisfied = knowledge_base(q, p, r)\n",
        "\n",
        "        # Check if r is entailed\n",
        "        r_entailed = kb_satisfied and r\n",
        "\n",
        "        # Check if r -> p is entailed\n",
        "        r_implies_p = implies(r, p)\n",
        "        r_implies_p_entailed = kb_satisfied and r_implies_p\n",
        "\n",
        "        # Check if q -> r is entailed\n",
        "        q_implies_r = implies(q, r)\n",
        "        q_implies_r_entailed = kb_satisfied and q_implies_r\n",
        "\n",
        "        # Store the results\n",
        "        results.append((q, p, r, kb_satisfied, r_entailed, r_implies_p_entailed, q_implies_r_entailed))\n",
        "\n",
        "    return results\n",
        "\n",
        "# Run the entailment check\n",
        "results = check_entailment()\n",
        "\n",
        "# Print the results\n",
        "print(\"Truth Table:\")\n",
        "print(\"q\\tp\\tr\\tKB Satisfied?\\tq -> p\\tp -> ~q\\tq V r\\tr Entailed?\\tr -> p Entailed?\\tq -> r Entailed?\")\n",
        "for q, p, r, kb, r_ent, r_imp_p_ent, q_imp_r_ent in results:\n",
        "    q_implies_p = implies(q, p)\n",
        "    p_implies_not_q = implies(p, not q)\n",
        "    q_or_r = q or r\n",
        "    print(f\"{int(q)}\\t{int(p)}\\t{int(r)}\\t{int(kb)}\\t\\t{int(q_implies_p)}\\t\\t{int(p_implies_not_q)}\\t\\t{int(q_or_r)}\\t\\t{int(r_ent)}\\t\\t\\t{int(r_imp_p_ent)}\\t\\t\\t{int(q_imp_r_ent)}\")\n",
        "\n",
        "# Summary of entailments\n",
        "entailments = {\n",
        "    \"r\": any(kb and r for q, p, r, kb, _, _, _ in results),\n",
        "    \"r -> p\": all(not kb or implies(r, p) for q, p, r, kb, _, _, _ in results),\n",
        "    \"q -> r\": all(not kb or implies(q, r) for q, p, r, kb, _, _, _ in results),\n",
        "}\n",
        "\n",
        "print(\"\\nEntailment Summary:\")\n",
        "for statement, is_entailed in entailments.items():\n",
        "    print(f\"{statement} is {'entailed' if is_entailed else 'not entailed'} by the KB.\")"
      ],
      "metadata": {
        "colab": {
          "base_uri": "https://localhost:8080/"
        },
        "id": "Xbvz1f4boFb7",
        "outputId": "ebe2675f-d6cf-47f8-db7c-0288952b30f2"
      },
      "execution_count": 3,
      "outputs": [
        {
          "output_type": "stream",
          "name": "stdout",
          "text": [
            "Truth Table:\n",
            "q\tp\tr\tKB Satisfied?\tq -> p\tp -> ~q\tq V r\tr Entailed?\tr -> p Entailed?\tq -> r Entailed?\n",
            "1\t1\t1\t0\t\t1\t\t0\t\t1\t\t0\t\t\t0\t\t\t0\n",
            "1\t1\t0\t0\t\t1\t\t0\t\t1\t\t0\t\t\t0\t\t\t0\n",
            "1\t0\t1\t0\t\t0\t\t1\t\t1\t\t0\t\t\t0\t\t\t0\n",
            "1\t0\t0\t0\t\t0\t\t1\t\t1\t\t0\t\t\t0\t\t\t0\n",
            "0\t1\t1\t1\t\t1\t\t1\t\t1\t\t1\t\t\t1\t\t\t1\n",
            "0\t1\t0\t0\t\t1\t\t1\t\t0\t\t0\t\t\t0\t\t\t0\n",
            "0\t0\t1\t1\t\t1\t\t1\t\t1\t\t1\t\t\t0\t\t\t1\n",
            "0\t0\t0\t0\t\t1\t\t1\t\t0\t\t0\t\t\t0\t\t\t0\n",
            "\n",
            "Entailment Summary:\n",
            "r is entailed by the KB.\n",
            "r -> p is not entailed by the KB.\n",
            "q -> r is entailed by the KB.\n"
          ]
        }
      ]
    },
    {
      "cell_type": "code",
      "source": [],
      "metadata": {
        "id": "bIJn-dzqoiPR"
      },
      "execution_count": null,
      "outputs": []
    }
  ]
}