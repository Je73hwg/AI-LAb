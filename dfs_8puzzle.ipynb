{
  "nbformat": 4,
  "nbformat_minor": 0,
  "metadata": {
    "colab": {
      "provenance": [],
      "authorship_tag": "ABX9TyPQwnV2AvTNHKZ01Sp+L5wh",
      "include_colab_link": true
    },
    "kernelspec": {
      "name": "python3",
      "display_name": "Python 3"
    },
    "language_info": {
      "name": "python"
    }
  },
  "cells": [
    {
      "cell_type": "markdown",
      "metadata": {
        "id": "view-in-github",
        "colab_type": "text"
      },
      "source": [
        "<a href=\"https://colab.research.google.com/github/Je73hwg/AI-LAb/blob/main/Untitled8.ipynb\" target=\"_parent\"><img src=\"https://colab.research.google.com/assets/colab-badge.svg\" alt=\"Open In Colab\"/></a>"
      ]
    },
    {
      "cell_type": "code",
      "execution_count": null,
      "metadata": {
        "id": "D6NIjU49cBUn"
      },
      "outputs": [],
      "source": [
        "from collections import deque\n",
        "\n",
        "def dfs(start, goal):\n",
        "    visited = set()\n",
        "    stack = deque([(start, [start])])\n",
        "\n",
        "    while stack:\n",
        "        state, path = stack.pop()\n",
        "        if state == goal:\n",
        "            return path\n",
        "        if state not in visited:\n",
        "            visited.add(state)\n",
        "            for neighbor in get_neighbors(state):\n",
        "                stack.append((neighbor, path + [neighbor]))\n",
        "\n",
        "    return None\n",
        "\n",
        "def get_neighbors(state):\n",
        "    neighbors = []\n",
        "    for i in range(3):\n",
        "        for j in range(3):\n",
        "            if state[i][j] == 0:\n",
        "                if i > 0:\n",
        "                    neighbors.append(swap(state, i, j, i-1, j))\n",
        "                if i < 2:\n",
        "                    neighbors.append(swap(state, i, j, i+1, j))\n",
        "                if j > 0:\n",
        "                    neighbors.append(swap(state, i, j, i, j-1))\n",
        "                if j < 2:\n",
        "                    neighbors.append(swap(state, i, j, i, j+1))\n",
        "    return neighbors\n",
        "\n",
        "def swap(state, i1, j1, i2, j2):\n",
        "    state[i1][j1], state[i2][j2] = state[i2][j2], state[i1][j1]\n",
        "    return state"
      ]
    }
  ]
}
