{
  "nbformat": 4,
  "nbformat_minor": 0,
  "metadata": {
    "colab": {
      "provenance": [],
      "authorship_tag": "ABX9TyMyvdImw5IKvhBoBgmQ5mQy",
      "include_colab_link": true
    },
    "kernelspec": {
      "name": "python3",
      "display_name": "Python 3"
    },
    "language_info": {
      "name": "python"
    }
  },
  "cells": [
    {
      "cell_type": "markdown",
      "metadata": {
        "id": "view-in-github",
        "colab_type": "text"
      },
      "source": [
        "<a href=\"https://colab.research.google.com/github/Je73hwg/AI-LAb/blob/main/1BM22cs046_week7_unification.ipynb\" target=\"_parent\"><img src=\"https://colab.research.google.com/assets/colab-badge.svg\" alt=\"Open In Colab\"/></a>"
      ]
    },
    {
      "cell_type": "code",
      "source": [
        "\n",
        "class Term:\n",
        "    def __init__(self, value):\n",
        "        self.value = value\n",
        "\n",
        "    def __str__(self):\n",
        "        return str(self.value)\n",
        "\n",
        "\n",
        "class Variable(Term):\n",
        "    def __init__(self, name):\n",
        "        super().__init__(name)\n",
        "\n",
        "\n",
        "class Constant(Term):\n",
        "    def __init__(self, value):\n",
        "        super().__init__(value)\n",
        "\n",
        "\n",
        "class Predicate(Term):\n",
        "    def __init__(self, symbol, args):\n",
        "        super().__init__((symbol, args))\n",
        "\n",
        "    def __str__(self):\n",
        "        return f\"{self.value[0]}({', '.join(map(str, self.value[1]))})\"\n",
        "\n",
        "\n",
        "def unify(ψ1, ψ2):\n",
        "    if isinstance(ψ1, Variable) and isinstance(ψ2, Variable):\n",
        "        if ψ1.value == ψ2.value:\n",
        "            print(f\"Unification failed: same variables '{ψ1.value}'\")\n",
        "            return \"FAILURE\"\n",
        "        else:\n",
        "            print(f\"Substitution: {ψ1.value} -> {ψ2.value}\")\n",
        "            return {(ψ1.value, ψ2.value)}\n",
        "\n",
        "    elif isinstance(ψ1, Variable):\n",
        "        if ψ1.value in [str(arg) for arg in ψ2.value[1]]:\n",
        "            print(f\"Unification failed: variable '{ψ1.value}' occurs in '{ψ2}'\")\n",
        "            return \"FAILURE\"\n",
        "        else:\n",
        "            print(f\"Substitution: {ψ1.value} -> {ψ2}\")\n",
        "            return {(ψ1.value, ψ2)}\n",
        "\n",
        "    elif isinstance(ψ2, Variable):\n",
        "        if ψ2.value in [str(arg) for arg in ψ1.value[1]]:\n",
        "            print(f\"Unification failed: variable '{ψ2.value}' occurs in '{ψ1}'\")\n",
        "            return \"FAILURE\"\n",
        "        else:\n",
        "            print(f\"Substitution: {ψ2.value} -> {ψ1}\")\n",
        "            return {(ψ2.value, ψ1)}\n",
        "\n",
        "    elif isinstance(ψ1, Constant) and isinstance(ψ2, Constant):\n",
        "        if ψ1.value == ψ2.value:\n",
        "            print(f\"Unification successful: constants '{ψ1.value}' match\")\n",
        "            return {}\n",
        "        else:\n",
        "            print(f\"Unification failed: constants '{ψ1.value}' and '{ψ2.value}' do not match\")\n",
        "            return \"FAILURE\"\n",
        "\n",
        "    elif isinstance(ψ1, Predicate) and isinstance(ψ2, Predicate):\n",
        "        if ψ1.value[0] != ψ2.value[0]:\n",
        "            print(f\"Unification failed: predicate symbols '{ψ1.value[0]}' and '{ψ2.value[0]}' do not match\")\n",
        "            return \"FAILURE\"\n",
        "        elif len(ψ1.value[1]) != len(ψ2.value[1]):\n",
        "            print(f\"Unification failed: predicate '{ψ1}' and '{ψ2}' have different number of arguments\")\n",
        "            return \"FAILURE\"\n",
        "        else:\n",
        "            subst = {}\n",
        "            for arg1, arg2 in zip(ψ1.value[1], ψ2.value[1]):\n",
        "                s = unify(arg1, arg2)\n",
        "                if s == \"FAILURE\":\n",
        "                    return \"FAILURE\"\n",
        "                elif s:\n",
        "                    subst.update(s)\n",
        "            print(f\"Unification successful: substitution {subst}\")\n",
        "            return subst\n",
        "\n",
        "    else:\n",
        "        print(f\"Unification failed: unsupported term types '{type(ψ1)}' and '{type(ψ2)}'\")\n",
        "        return \"FAILURE\"\n",
        "\n",
        "\n",
        "# Example usage\n",
        "x = Variable('x')\n",
        "y = Variable('y')\n",
        "c1 = Constant('c1')\n",
        "c2 = Constant('c2')\n",
        "p1 = Predicate('p', [x, c1])\n",
        "p2 = Predicate('p', [y, c2])\n",
        "\n",
        "result = unify(p1, p2)\n",
        "print(\"Unification result:\", result)"
      ],
      "metadata": {
        "colab": {
          "base_uri": "https://localhost:8080/"
        },
        "id": "x58kp9x0mOMh",
        "outputId": "74254571-6ae5-4a82-b73f-e39a82dc5ebb"
      },
      "execution_count": 32,
      "outputs": [
        {
          "output_type": "stream",
          "name": "stdout",
          "text": [
            "Substitution: x -> y\n",
            "Unification failed: constants 'c1' and 'c2' do not match\n",
            "Unification result: FAILURE\n"
          ]
        }
      ]
    },
    {
      "cell_type": "code",
      "source": [],
      "metadata": {
        "id": "Ul9JaMw8rTbJ"
      },
      "execution_count": null,
      "outputs": []
    }
  ]
}