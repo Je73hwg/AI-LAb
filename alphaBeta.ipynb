{
  "nbformat": 4,
  "nbformat_minor": 0,
  "metadata": {
    "colab": {
      "provenance": [],
      "authorship_tag": "ABX9TyOc/45DgYTyBXxqjWpr5kcp",
      "include_colab_link": true
    },
    "kernelspec": {
      "name": "python3",
      "display_name": "Python 3"
    },
    "language_info": {
      "name": "python"
    }
  },
  "cells": [
    {
      "cell_type": "markdown",
      "metadata": {
        "id": "view-in-github",
        "colab_type": "text"
      },
      "source": [
        "<a href=\"https://colab.research.google.com/github/Je73hwg/AI-LAb/blob/main/alphaBeta.ipynb\" target=\"_parent\"><img src=\"https://colab.research.google.com/assets/colab-badge.svg\" alt=\"Open In Colab\"/></a>"
      ]
    },
    {
      "cell_type": "code",
      "execution_count": 4,
      "metadata": {
        "colab": {
          "base_uri": "https://localhost:8080/"
        },
        "id": "vBiQ33yLyMyz",
        "outputId": "7190680f-d47f-4a97-d609-65097e4160a6"
      },
      "outputs": [
        {
          "output_type": "stream",
          "name": "stdout",
          "text": [
            "Alpha: 10, Beta: inf (Maximizing)\n",
            "Alpha: 10, Beta: inf (Maximizing)\n",
            "Alpha: -inf, Beta: 10 (Minimizing)\n",
            "Alpha: 14, Beta: 10 (Maximizing)\n",
            "Pruned! (Beta cut-off)\n",
            "Alpha: -inf, Beta: 10 (Minimizing)\n",
            "Alpha: 10, Beta: inf (Maximizing)\n",
            "Alpha: 10, Beta: inf (Maximizing)\n",
            "Alpha: 10, Beta: inf (Maximizing)\n",
            "Alpha: 10, Beta: 5 (Minimizing)\n",
            "Pruned! (Alpha cut-off)\n",
            "Alpha: 10, Beta: inf (Maximizing)\n",
            "Result: 10\n"
          ]
        }
      ],
      "source": [
        "class Node:\n",
        "    def __init__(self, value=None):\n",
        "        self.value = value  # Leaf node value (only for terminal nodes)\n",
        "        self.children = []  # Non-leaf nodes have children\n",
        "\n",
        "def alpha_beta_pruning(node, depth, alpha, beta, maximizing_player):\n",
        "    # If we reach a leaf node or max depth, return the node's value\n",
        "    if depth == 0 or not node.children:\n",
        "        return node.value\n",
        "\n",
        "    if maximizing_player:\n",
        "        max_eval = float('-inf')\n",
        "        for child in node.children:\n",
        "            eval = alpha_beta_pruning(child, depth - 1, alpha, beta, False)\n",
        "            max_eval = max(max_eval, eval)\n",
        "            alpha = max(alpha, eval)\n",
        "            print(f\"Alpha: {alpha}, Beta: {beta} (Maximizing)\")\n",
        "            if beta <= alpha:\n",
        "                print(\"Pruned! (Beta cut-off)\")\n",
        "                break  # Beta cut-off\n",
        "        return max_eval\n",
        "    else:\n",
        "        min_eval = float('inf')\n",
        "        for child in node.children:\n",
        "            eval = alpha_beta_pruning(child, depth - 1, alpha, beta, True)\n",
        "            min_eval = min(min_eval, eval)\n",
        "            beta = min(beta, eval)\n",
        "            print(f\"Alpha: {alpha}, Beta: {beta} (Minimizing)\")\n",
        "            if beta <= alpha:\n",
        "                print(\"Pruned! (Alpha cut-off)\")\n",
        "                break  # Alpha cut-off\n",
        "        return min_eval\n",
        "\n",
        "# Create the tree structure properly\n",
        "root = Node()\n",
        "child1 = Node()\n",
        "child2 = Node()\n",
        "\n",
        "root.children = [child1, child2]\n",
        "\n",
        "# Adding children to child1\n",
        "child1_1 = Node()\n",
        "child1_2 = Node()\n",
        "child1.children = [child1_1, child1_2]\n",
        "\n",
        "# Adding children to child2\n",
        "child2_1 = Node()\n",
        "child2_2 = Node()\n",
        "child2.children = [child2_1, child2_2]\n",
        "\n",
        "# Assign leaf node values\n",
        "child1_1.children = [Node(10), Node(9)]\n",
        "child1_2.children = [Node(14), Node(18)]\n",
        "child2_1.children = [Node(5), Node(4)]\n",
        "child2_2.children = [Node(50), Node(3)]\n",
        "\n",
        "# Run Alpha-Beta pruning\n",
        "depth = 3  # Maximum depth of the tree\n",
        "alpha = float('-inf')\n",
        "beta = float('inf')\n",
        "maximizing_player = True\n",
        "\n",
        "result = alpha_beta_pruning(root, depth, alpha, beta, maximizing_player)\n",
        "print(\"Result:\", result)\n"
      ]
    },
    {
      "cell_type": "code",
      "source": [],
      "metadata": {
        "id": "6npFArudy4WY"
      },
      "execution_count": null,
      "outputs": []
    }
  ]
}