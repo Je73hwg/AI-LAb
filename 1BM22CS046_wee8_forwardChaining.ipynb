{
  "nbformat": 4,
  "nbformat_minor": 0,
  "metadata": {
    "colab": {
      "provenance": [],
      "authorship_tag": "ABX9TyMQ8mKAbSb7wyFdZwlMcIqZ",
      "include_colab_link": true
    },
    "kernelspec": {
      "name": "python3",
      "display_name": "Python 3"
    },
    "language_info": {
      "name": "python"
    }
  },
  "cells": [
    {
      "cell_type": "markdown",
      "metadata": {
        "id": "view-in-github",
        "colab_type": "text"
      },
      "source": [
        "<a href=\"https://colab.research.google.com/github/Je73hwg/AI-LAb/blob/main/1BM22CS046_wee8_forwardChaining.ipynb\" target=\"_parent\"><img src=\"https://colab.research.google.com/assets/colab-badge.svg\" alt=\"Open In Colab\"/></a>"
      ]
    },
    {
      "cell_type": "code",
      "execution_count": 13,
      "metadata": {
        "colab": {
          "base_uri": "https://localhost:8080/"
        },
        "id": "W9z8ghpmvRd4",
        "outputId": "cfc9925e-273e-4189-dad0-468c69808993"
      },
      "outputs": [
        {
          "output_type": "stream",
          "name": "stdout",
          "text": [
            "Inferred: American(Robert)\n",
            "Inferred: Enemy(A, America)\n",
            "Inferred: Owns(A, T1)\n",
            "Inferred: Missile(T1)\n",
            "Inferred: Sells(Robert, T1, A)\n",
            "Inferred: Hostile(A)\n",
            "Robert is a criminal.\n"
          ]
        }
      ],
      "source": [
        "# Knowledge Base\n",
        "kb = {\n",
        "    \"American(Robert)\": [],\n",
        "    \"Enemy(A, America)\": [],\n",
        "    \"Owns(A, T1)\": [],\n",
        "    \"Missile(T1)\": [],\n",
        "    \"Criminal(Robert)\": [\"American(Robert)\", \"Sells(Robert, T1, A)\", \"Hostile(A)\"],\n",
        "    \"Sells(Robert, T1, A)\": [\"Owns(A, T1)\", \"Missile(T1)\"],\n",
        "    \"Hostile(A)\": [\"Enemy(A, America)\"]\n",
        "}\n",
        "\n",
        "# Initialize known facts\n",
        "inferred = set()\n",
        "\n",
        "# Forward Chaining Algorithm\n",
        "def forward_chaining(kb):\n",
        "    global inferred\n",
        "\n",
        "    for clause, premises in kb.items():\n",
        "        if not premises:  # If the clause has no premises, it is a fact\n",
        "            inferred.add(clause)\n",
        "            print(f\"Inferred: {clause}\")\n",
        "\n",
        "    for clause, premises in kb.items():\n",
        "        if premises:  # If the clause has premises\n",
        "            if all(premise in inferred for premise in premises):\n",
        "                inferred.add(clause)\n",
        "                print(f\"Inferred: {clause}\")\n",
        "\n",
        "# Run the forward-chaining algorithm\n",
        "forward_chaining(kb)\n",
        "\n",
        "# Print the final result\n",
        "if \"Criminal(Robert)\" in inferred:\n",
        "    print(\"Robert is not a criminal.\")\n",
        "else:\n",
        "    print(\"Robert is a criminal.\")"
      ]
    },
    {
      "cell_type": "code",
      "source": [],
      "metadata": {
        "id": "8f_I4giBvxaw"
      },
      "execution_count": null,
      "outputs": []
    }
  ]
}