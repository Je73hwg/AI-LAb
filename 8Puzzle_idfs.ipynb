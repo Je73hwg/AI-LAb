{
  "nbformat": 4,
  "nbformat_minor": 0,
  "metadata": {
    "colab": {
      "provenance": [],
      "authorship_tag": "ABX9TyOvZEKTGiCvijeF7TjtXv66",
      "include_colab_link": true
    },
    "kernelspec": {
      "name": "python3",
      "display_name": "Python 3"
    },
    "language_info": {
      "name": "python"
    }
  },
  "cells": [
    {
      "cell_type": "markdown",
      "metadata": {
        "id": "view-in-github",
        "colab_type": "text"
      },
      "source": [
        "<a href=\"https://colab.research.google.com/github/Je73hwg/AI-LAb/blob/main/8Puzzle_idfs.ipynb\" target=\"_parent\"><img src=\"https://colab.research.google.com/assets/colab-badge.svg\" alt=\"Open In Colab\"/></a>"
      ]
    },
    {
      "cell_type": "code",
      "execution_count": 1,
      "metadata": {
        "colab": {
          "base_uri": "https://localhost:8080/"
        },
        "id": "f4z3bISJCQeo",
        "outputId": "b47f4f48-65c2-4e8e-881a-edec6706316c"
      },
      "outputs": [
        {
          "output_type": "stream",
          "name": "stdout",
          "text": [
            "IDS Path:\n",
            "[1, 2, 3]\n",
            "[4, 0, 5]\n",
            "[6, 7, 8]\n",
            "\n",
            "[1, 2, 3]\n",
            "[4, 5, 0]\n",
            "[6, 7, 8]\n",
            "\n",
            "[1, 2, 3]\n",
            "[4, 5, 8]\n",
            "[6, 7, 0]\n",
            "\n",
            "[1, 2, 3]\n",
            "[4, 5, 8]\n",
            "[6, 0, 7]\n",
            "\n",
            "[1, 2, 3]\n",
            "[4, 5, 8]\n",
            "[0, 6, 7]\n",
            "\n",
            "[1, 2, 3]\n",
            "[0, 5, 8]\n",
            "[4, 6, 7]\n",
            "\n",
            "[1, 2, 3]\n",
            "[5, 0, 8]\n",
            "[4, 6, 7]\n",
            "\n",
            "[1, 2, 3]\n",
            "[5, 6, 8]\n",
            "[4, 0, 7]\n",
            "\n",
            "[1, 2, 3]\n",
            "[5, 6, 8]\n",
            "[4, 7, 0]\n",
            "\n",
            "[1, 2, 3]\n",
            "[5, 6, 0]\n",
            "[4, 7, 8]\n",
            "\n",
            "[1, 2, 3]\n",
            "[5, 0, 6]\n",
            "[4, 7, 8]\n",
            "\n",
            "[1, 2, 3]\n",
            "[0, 5, 6]\n",
            "[4, 7, 8]\n",
            "\n",
            "[1, 2, 3]\n",
            "[4, 5, 6]\n",
            "[0, 7, 8]\n",
            "\n",
            "[1, 2, 3]\n",
            "[4, 5, 6]\n",
            "[7, 0, 8]\n",
            "\n",
            "[1, 2, 3]\n",
            "[4, 5, 6]\n",
            "[7, 8, 0]\n",
            "\n"
          ]
        }
      ],
      "source": [
        "from collections import deque\n",
        "\n",
        "def ids(start, goal):\n",
        "    depth = 0\n",
        "    while True:\n",
        "        visited = set()\n",
        "        result = dls(start, goal, depth, visited)\n",
        "        if result is not None:\n",
        "            return result\n",
        "        depth += 1\n",
        "\n",
        "def dls(state, goal, depth, visited):\n",
        "    if state == goal:\n",
        "        return [state]\n",
        "    if depth == 0:\n",
        "        return None\n",
        "    visited.add(tuple(map(tuple, state)))  # Use tuple for hashing\n",
        "    for neighbor in get_neighbors(state):\n",
        "        if tuple(map(tuple, neighbor)) not in visited:\n",
        "            path = dls(neighbor, goal, depth - 1, visited)\n",
        "            if path is not None:\n",
        "                return [state] + path\n",
        "    visited.remove(tuple(map(tuple, state)))  # Backtrack\n",
        "    return None\n",
        "\n",
        "def get_neighbors(state):\n",
        "    neighbors = []\n",
        "    for i in range(3):\n",
        "        for j in range(3):\n",
        "            if state[i][j] == 0:  # Find the empty space\n",
        "                if i > 0:  # Move up\n",
        "                    neighbors.append(swap(state, i, j, i - 1, j))\n",
        "                if i < 2:  # Move down\n",
        "                    neighbors.append(swap(state, i, j, i + 1, j))\n",
        "                if j > 0:  # Move left\n",
        "                    neighbors.append(swap(state, i, j, i, j - 1))\n",
        "                if j < 2:  # Move right\n",
        "                    neighbors.append(swap(state, i, j, i, j + 1))\n",
        "    return neighbors\n",
        "\n",
        "def swap(state, i1, j1, i2, j2):\n",
        "    new_state = [row[:] for row in state]  # Create a copy of the state\n",
        "    new_state[i1][j1], new_state[i2][j2] = new_state[i2][j2], new_state[i1][j1]\n",
        "    return new_state\n",
        "\n",
        "start = [[1, 2, 3], [4, 0, 5], [6, 7, 8]]\n",
        "goal = [[1, 2, 3], [4, 5, 6], [7, 8, 0]]\n",
        "\n",
        "path = ids(start, goal)\n",
        "print(\"IDS Path:\")\n",
        "for step in path:\n",
        "    for row in step:\n",
        "        print(row)\n",
        "    print()  # Print a blank line between steps\n"
      ]
    }
  ]
}