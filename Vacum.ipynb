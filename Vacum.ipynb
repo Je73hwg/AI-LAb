{
  "nbformat": 4,
  "nbformat_minor": 0,
  "metadata": {
    "colab": {
      "provenance": [],
      "authorship_tag": "ABX9TyP0xc2t/Yijn1AFNpA1SLqi",
      "include_colab_link": true
    },
    "kernelspec": {
      "name": "python3",
      "display_name": "Python 3"
    },
    "language_info": {
      "name": "python"
    }
  },
  "cells": [
    {
      "cell_type": "markdown",
      "metadata": {
        "id": "view-in-github",
        "colab_type": "text"
      },
      "source": [
        "<a href=\"https://colab.research.google.com/github/Je73hwg/AI-LAb/blob/main/Vacum.ipynb\" target=\"_parent\"><img src=\"https://colab.research.google.com/assets/colab-badge.svg\" alt=\"Open In Colab\"/></a>"
      ]
    },
    {
      "cell_type": "code",
      "execution_count": null,
      "metadata": {
        "id": "wix198MIPTae"
      },
      "outputs": [],
      "source": [
        "import random\n",
        "\n",
        "def display(room):\n",
        "    print(room)\n",
        "\n",
        "room = [\n",
        "    [1, 1, 1, 1],\n",
        "    [1, 1, 1, 1],\n",
        "    [1, 1, 1, 1],\n",
        "    [1, 1, 1, 1],\n",
        "]\n",
        "print(\"All the rooom are dirty\")\n",
        "display(room)\n",
        "\n",
        "x =0\n",
        "y= 0\n",
        "\n",
        "while x < 4:\n",
        "    while y < 4:\n",
        "        room[x][y] = random.choice([0,1])\n",
        "        y+=1\n",
        "    x+=1\n",
        "    y=0\n",
        "\n",
        "print(\"Before cleaning the room I detect all of these random dirts\")\n",
        "display(room)\n",
        "x =0\n",
        "y= 0\n",
        "z=0\n",
        "while x < 4:\n",
        "    while y < 4:\n",
        "        if room[x][y] == 1:\n",
        "            print(\"Vaccum in this location now,\",x, y)\n",
        "            room[x][y] = 0\n",
        "            print(\"cleaned\", x, y)\n",
        "            z+=1\n",
        "        y+=1\n",
        "    x+=1\n",
        "    y=0\n",
        "pro= (100-((z/16)*100))\n",
        "print(\"Room is clean now, Thanks for using : 3710933\")\n",
        "display(room)\n",
        "print('performance=',pro,'%')"
      ]
    },
    {
      "cell_type": "markdown",
      "source": [],
      "metadata": {
        "id": "PGOcqYQLPj_J"
      }
    }
  ]
}